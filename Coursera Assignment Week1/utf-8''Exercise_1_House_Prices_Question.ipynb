{
 "cells": [
  {
   "cell_type": "markdown",
   "metadata": {
    "colab_type": "text",
    "id": "mw2VBrBcgvGa"
   },
   "source": [
    "In this exercise you'll try to build a neural network that predicts the price of a house according to a simple formula.\n",
    "\n",
    "So, imagine if house pricing was as easy as a house costs 50k + 50k per bedroom, so that a 1 bedroom house costs 100k, a 2 bedroom house costs 150k etc.\n",
    "\n",
    "How would you create a neural network that learns this relationship so that it would predict a 7 bedroom house as costing close to 400k etc.\n",
    "\n",
    "Hint: Your network might work better if you scale the house price down. You don't have to give the answer 400...it might be better to create something that predicts the number 4, and then your answer is in the 'hundreds of thousands' etc."
   ]
  },
  {
   "cell_type": "code",
   "execution_count": 38,
   "metadata": {},
   "outputs": [],
   "source": [
    "import tensorflow as tf\n",
    "import numpy as np\n",
    "from tensorflow import keras"
   ]
  },
  {
   "cell_type": "code",
   "execution_count": 39,
   "metadata": {
    "colab": {},
    "colab_type": "code",
    "id": "PUNO2E6SeURH"
   },
   "outputs": [],
   "source": [
    "# GRADED FUNCTION: house_model\n",
    "def house_model(y_new):\n",
    "    xs=[1,2,3,4,5,6,7,8,9]\n",
    "    ys=[1,1.5,2,2.5,3,3.5,4,4.5,5]\n",
    "    model = tf.keras.Sequential([keras.layers.Dense(units=1, input_shape=[1]),])\n",
    "    model.compile(optimizer='sgd', loss='mean_squared_error', metrics=['accuracy'])\n",
    "    model.fit(xs,ys,epochs=100)\n",
    "    return model.predict(y_new)[0]"
   ]
  },
  {
   "cell_type": "code",
   "execution_count": 40,
   "metadata": {},
   "outputs": [
    {
     "name": "stdout",
     "output_type": "stream",
     "text": [
      "Epoch 1/100\n",
      "9/9 [==============================] - 0s 9ms/sample - loss: 29.4274 - acc: 0.0000e+00\n",
      "Epoch 2/100\n",
      "9/9 [==============================] - 0s 165us/sample - loss: 3.6433 - acc: 0.0000e+00\n",
      "Epoch 3/100\n",
      "9/9 [==============================] - 0s 212us/sample - loss: 0.4706 - acc: 0.1111\n",
      "Epoch 4/100\n",
      "9/9 [==============================] - 0s 171us/sample - loss: 0.0800 - acc: 0.1111\n",
      "Epoch 5/100\n",
      "9/9 [==============================] - 0s 174us/sample - loss: 0.0318 - acc: 0.1111\n",
      "Epoch 6/100\n",
      "9/9 [==============================] - 0s 184us/sample - loss: 0.0257 - acc: 0.1111\n",
      "Epoch 7/100\n",
      "9/9 [==============================] - 0s 154us/sample - loss: 0.0247 - acc: 0.1111\n",
      "Epoch 8/100\n",
      "9/9 [==============================] - 0s 146us/sample - loss: 0.0244 - acc: 0.1111\n",
      "Epoch 9/100\n",
      "9/9 [==============================] - 0s 130us/sample - loss: 0.0242 - acc: 0.1111\n",
      "Epoch 10/100\n",
      "9/9 [==============================] - 0s 153us/sample - loss: 0.0240 - acc: 0.1111\n",
      "Epoch 11/100\n",
      "9/9 [==============================] - 0s 9ms/sample - loss: 0.0238 - acc: 0.1111\n",
      "Epoch 12/100\n",
      "9/9 [==============================] - 0s 168us/sample - loss: 0.0236 - acc: 0.1111\n",
      "Epoch 13/100\n",
      "9/9 [==============================] - 0s 152us/sample - loss: 0.0235 - acc: 0.1111\n",
      "Epoch 14/100\n",
      "9/9 [==============================] - 0s 152us/sample - loss: 0.0233 - acc: 0.1111\n",
      "Epoch 15/100\n",
      "9/9 [==============================] - 0s 155us/sample - loss: 0.0231 - acc: 0.1111\n",
      "Epoch 16/100\n",
      "9/9 [==============================] - 0s 154us/sample - loss: 0.0229 - acc: 0.1111\n",
      "Epoch 17/100\n",
      "9/9 [==============================] - 0s 167us/sample - loss: 0.0227 - acc: 0.1111\n",
      "Epoch 18/100\n",
      "9/9 [==============================] - 0s 157us/sample - loss: 0.0225 - acc: 0.1111\n",
      "Epoch 19/100\n",
      "9/9 [==============================] - 0s 159us/sample - loss: 0.0223 - acc: 0.1111\n",
      "Epoch 20/100\n",
      "9/9 [==============================] - 0s 201us/sample - loss: 0.0221 - acc: 0.1111\n",
      "Epoch 21/100\n",
      "9/9 [==============================] - 0s 190us/sample - loss: 0.0220 - acc: 0.1111\n",
      "Epoch 22/100\n",
      "9/9 [==============================] - 0s 168us/sample - loss: 0.0218 - acc: 0.1111\n",
      "Epoch 23/100\n",
      "9/9 [==============================] - 0s 154us/sample - loss: 0.0216 - acc: 0.1111\n",
      "Epoch 24/100\n",
      "9/9 [==============================] - 0s 148us/sample - loss: 0.0214 - acc: 0.1111\n",
      "Epoch 25/100\n",
      "9/9 [==============================] - 0s 151us/sample - loss: 0.0212 - acc: 0.1111\n",
      "Epoch 26/100\n",
      "9/9 [==============================] - 0s 153us/sample - loss: 0.0211 - acc: 0.1111\n",
      "Epoch 27/100\n",
      "9/9 [==============================] - 0s 9ms/sample - loss: 0.0209 - acc: 0.1111\n",
      "Epoch 28/100\n",
      "9/9 [==============================] - 0s 200us/sample - loss: 0.0207 - acc: 0.1111\n",
      "Epoch 29/100\n",
      "9/9 [==============================] - 0s 160us/sample - loss: 0.0206 - acc: 0.1111\n",
      "Epoch 30/100\n",
      "9/9 [==============================] - 0s 169us/sample - loss: 0.0204 - acc: 0.1111\n",
      "Epoch 31/100\n",
      "9/9 [==============================] - 0s 152us/sample - loss: 0.0202 - acc: 0.1111\n",
      "Epoch 32/100\n",
      "9/9 [==============================] - 0s 149us/sample - loss: 0.0201 - acc: 0.1111\n",
      "Epoch 33/100\n",
      "9/9 [==============================] - 0s 157us/sample - loss: 0.0199 - acc: 0.1111\n",
      "Epoch 34/100\n",
      "9/9 [==============================] - 0s 169us/sample - loss: 0.0197 - acc: 0.1111\n",
      "Epoch 35/100\n",
      "9/9 [==============================] - 0s 216us/sample - loss: 0.0196 - acc: 0.1111\n",
      "Epoch 36/100\n",
      "9/9 [==============================] - 0s 177us/sample - loss: 0.0194 - acc: 0.1111\n",
      "Epoch 37/100\n",
      "9/9 [==============================] - 0s 165us/sample - loss: 0.0192 - acc: 0.1111\n",
      "Epoch 38/100\n",
      "9/9 [==============================] - 0s 152us/sample - loss: 0.0191 - acc: 0.1111\n",
      "Epoch 39/100\n",
      "9/9 [==============================] - 0s 151us/sample - loss: 0.0189 - acc: 0.1111\n",
      "Epoch 40/100\n",
      "9/9 [==============================] - 0s 160us/sample - loss: 0.0188 - acc: 0.1111\n",
      "Epoch 41/100\n",
      "9/9 [==============================] - 0s 155us/sample - loss: 0.0186 - acc: 0.1111\n",
      "Epoch 42/100\n",
      "9/9 [==============================] - 0s 196us/sample - loss: 0.0185 - acc: 0.1111\n",
      "Epoch 43/100\n",
      "9/9 [==============================] - 0s 199us/sample - loss: 0.0183 - acc: 0.1111\n",
      "Epoch 44/100\n",
      "9/9 [==============================] - 0s 155us/sample - loss: 0.0182 - acc: 0.1111\n",
      "Epoch 45/100\n",
      "9/9 [==============================] - 0s 170us/sample - loss: 0.0180 - acc: 0.1111\n",
      "Epoch 46/100\n",
      "9/9 [==============================] - 0s 147us/sample - loss: 0.0179 - acc: 0.1111\n",
      "Epoch 47/100\n",
      "9/9 [==============================] - 0s 147us/sample - loss: 0.0177 - acc: 0.1111\n",
      "Epoch 48/100\n",
      "9/9 [==============================] - 0s 161us/sample - loss: 0.0176 - acc: 0.1111\n",
      "Epoch 49/100\n",
      "9/9 [==============================] - 0s 9ms/sample - loss: 0.0174 - acc: 0.1111\n",
      "Epoch 50/100\n",
      "9/9 [==============================] - 0s 205us/sample - loss: 0.0173 - acc: 0.1111\n",
      "Epoch 51/100\n",
      "9/9 [==============================] - 0s 266us/sample - loss: 0.0172 - acc: 0.1111\n",
      "Epoch 52/100\n",
      "9/9 [==============================] - 0s 187us/sample - loss: 0.0170 - acc: 0.1111\n",
      "Epoch 53/100\n",
      "9/9 [==============================] - 0s 188us/sample - loss: 0.0169 - acc: 0.1111\n",
      "Epoch 54/100\n",
      "9/9 [==============================] - 0s 180us/sample - loss: 0.0167 - acc: 0.1111\n",
      "Epoch 55/100\n",
      "9/9 [==============================] - 0s 9ms/sample - loss: 0.0166 - acc: 0.1111\n",
      "Epoch 56/100\n",
      "9/9 [==============================] - 0s 151us/sample - loss: 0.0165 - acc: 0.1111\n",
      "Epoch 57/100\n",
      "9/9 [==============================] - 0s 149us/sample - loss: 0.0163 - acc: 0.1111\n",
      "Epoch 58/100\n",
      "9/9 [==============================] - 0s 173us/sample - loss: 0.0162 - acc: 0.1111\n",
      "Epoch 59/100\n",
      "9/9 [==============================] - 0s 169us/sample - loss: 0.0161 - acc: 0.1111\n",
      "Epoch 60/100\n",
      "9/9 [==============================] - 0s 171us/sample - loss: 0.0159 - acc: 0.1111\n",
      "Epoch 61/100\n",
      "9/9 [==============================] - 0s 189us/sample - loss: 0.0158 - acc: 0.1111\n",
      "Epoch 62/100\n",
      "9/9 [==============================] - 0s 9ms/sample - loss: 0.0157 - acc: 0.1111\n",
      "Epoch 63/100\n",
      "9/9 [==============================] - 0s 213us/sample - loss: 0.0155 - acc: 0.1111\n",
      "Epoch 64/100\n",
      "9/9 [==============================] - 0s 186us/sample - loss: 0.0154 - acc: 0.1111\n",
      "Epoch 65/100\n",
      "9/9 [==============================] - 0s 155us/sample - loss: 0.0153 - acc: 0.1111\n",
      "Epoch 66/100\n",
      "9/9 [==============================] - 0s 145us/sample - loss: 0.0152 - acc: 0.1111\n",
      "Epoch 67/100\n",
      "9/9 [==============================] - 0s 178us/sample - loss: 0.0150 - acc: 0.1111\n",
      "Epoch 68/100\n",
      "9/9 [==============================] - 0s 161us/sample - loss: 0.0149 - acc: 0.1111\n",
      "Epoch 69/100\n",
      "9/9 [==============================] - 0s 173us/sample - loss: 0.0148 - acc: 0.1111\n",
      "Epoch 70/100\n",
      "9/9 [==============================] - 0s 205us/sample - loss: 0.0147 - acc: 0.1111\n",
      "Epoch 71/100\n",
      "9/9 [==============================] - 0s 173us/sample - loss: 0.0145 - acc: 0.1111\n",
      "Epoch 72/100\n",
      "9/9 [==============================] - 0s 706us/sample - loss: 0.0144 - acc: 0.1111\n",
      "Epoch 73/100\n",
      "9/9 [==============================] - 0s 1ms/sample - loss: 0.0143 - acc: 0.1111\n",
      "Epoch 74/100\n",
      "9/9 [==============================] - 0s 276us/sample - loss: 0.0142 - acc: 0.1111\n",
      "Epoch 75/100\n",
      "9/9 [==============================] - 0s 156us/sample - loss: 0.0141 - acc: 0.1111\n",
      "Epoch 76/100\n",
      "9/9 [==============================] - 0s 8ms/sample - loss: 0.0140 - acc: 0.1111\n",
      "Epoch 77/100\n",
      "9/9 [==============================] - 0s 170us/sample - loss: 0.0138 - acc: 0.1111\n",
      "Epoch 78/100\n",
      "9/9 [==============================] - 0s 764us/sample - loss: 0.0137 - acc: 0.1111\n",
      "Epoch 79/100\n",
      "9/9 [==============================] - 0s 1ms/sample - loss: 0.0136 - acc: 0.1111\n",
      "Epoch 80/100\n",
      "9/9 [==============================] - 0s 239us/sample - loss: 0.0135 - acc: 0.1111\n",
      "Epoch 81/100\n",
      "9/9 [==============================] - 0s 154us/sample - loss: 0.0134 - acc: 0.1111\n",
      "Epoch 82/100\n",
      "9/9 [==============================] - 0s 8ms/sample - loss: 0.0133 - acc: 0.1111\n",
      "Epoch 83/100\n",
      "9/9 [==============================] - 0s 154us/sample - loss: 0.0132 - acc: 0.1111\n",
      "Epoch 84/100\n",
      "9/9 [==============================] - 0s 397us/sample - loss: 0.0131 - acc: 0.1111\n",
      "Epoch 85/100\n",
      "9/9 [==============================] - 0s 1ms/sample - loss: 0.0130 - acc: 0.1111\n"
     ]
    },
    {
     "name": "stdout",
     "output_type": "stream",
     "text": [
      "Epoch 86/100\n",
      "9/9 [==============================] - 0s 195us/sample - loss: 0.0129 - acc: 0.1111\n",
      "Epoch 87/100\n",
      "9/9 [==============================] - 0s 153us/sample - loss: 0.0128 - acc: 0.1111\n",
      "Epoch 88/100\n",
      "9/9 [==============================] - 0s 165us/sample - loss: 0.0126 - acc: 0.1111\n",
      "Epoch 89/100\n",
      "9/9 [==============================] - 0s 7ms/sample - loss: 0.0125 - acc: 0.1111\n",
      "Epoch 90/100\n",
      "9/9 [==============================] - 0s 460us/sample - loss: 0.0124 - acc: 0.1111\n",
      "Epoch 91/100\n",
      "9/9 [==============================] - 0s 1ms/sample - loss: 0.0123 - acc: 0.1111\n",
      "Epoch 92/100\n",
      "9/9 [==============================] - 0s 174us/sample - loss: 0.0122 - acc: 0.1111\n",
      "Epoch 93/100\n",
      "9/9 [==============================] - 0s 158us/sample - loss: 0.0121 - acc: 0.1111\n",
      "Epoch 94/100\n",
      "9/9 [==============================] - 0s 178us/sample - loss: 0.0120 - acc: 0.1111\n",
      "Epoch 95/100\n",
      "9/9 [==============================] - 0s 8ms/sample - loss: 0.0119 - acc: 0.1111\n",
      "Epoch 96/100\n",
      "9/9 [==============================] - 0s 1ms/sample - loss: 0.0118 - acc: 0.1111\n",
      "Epoch 97/100\n",
      "9/9 [==============================] - 0s 304us/sample - loss: 0.0117 - acc: 0.1111\n",
      "Epoch 98/100\n",
      "9/9 [==============================] - 0s 179us/sample - loss: 0.0116 - acc: 0.1111\n",
      "Epoch 99/100\n",
      "9/9 [==============================] - 0s 183us/sample - loss: 0.0116 - acc: 0.1111\n",
      "Epoch 100/100\n",
      "9/9 [==============================] - 0s 147us/sample - loss: 0.0115 - acc: 0.1111\n",
      "[4.026131]\n"
     ]
    }
   ],
   "source": [
    "prediction = house_model([7.0])\n",
    "print(prediction)"
   ]
  },
  {
   "cell_type": "code",
   "execution_count": 41,
   "metadata": {},
   "outputs": [],
   "source": [
    "# Now click the 'Submit Assignment' button above.\n",
    "# Once that is complete, please run the following two cells to save your work and close the notebook"
   ]
  },
  {
   "cell_type": "code",
   "execution_count": 42,
   "metadata": {},
   "outputs": [
    {
     "data": {
      "application/javascript": [
       "<!-- Save the notebook -->\n",
       "IPython.notebook.save_checkpoint();\n"
      ],
      "text/plain": [
       "<IPython.core.display.Javascript object>"
      ]
     },
     "metadata": {},
     "output_type": "display_data"
    }
   ],
   "source": [
    "%%javascript\n",
    "<!-- Save the notebook -->\n",
    "IPython.notebook.save_checkpoint();"
   ]
  },
  {
   "cell_type": "code",
   "execution_count": null,
   "metadata": {},
   "outputs": [
    {
     "data": {
      "application/javascript": [
       "IPython.notebook.session.delete();\n",
       "window.onbeforeunload = null\n",
       "setTimeout(function() { window.close(); }, 1000);\n"
      ],
      "text/plain": [
       "<IPython.core.display.Javascript object>"
      ]
     },
     "metadata": {},
     "output_type": "display_data"
    }
   ],
   "source": [
    "%%javascript\n",
    "IPython.notebook.session.delete();\n",
    "window.onbeforeunload = null\n",
    "setTimeout(function() { window.close(); }, 1000);"
   ]
  },
  {
   "cell_type": "code",
   "execution_count": null,
   "metadata": {},
   "outputs": [],
   "source": []
  }
 ],
 "metadata": {
  "coursera": {
   "course_slug": "introduction-tensorflow",
   "graded_item_id": "jRjw8",
   "launcher_item_id": "YoQKl"
  },
  "kernelspec": {
   "display_name": "Python 3",
   "language": "python",
   "name": "python3"
  },
  "language_info": {
   "codemirror_mode": {
    "name": "ipython",
    "version": 3
   },
   "file_extension": ".py",
   "mimetype": "text/x-python",
   "name": "python",
   "nbconvert_exporter": "python",
   "pygments_lexer": "ipython3",
   "version": "3.6.8"
  }
 },
 "nbformat": 4,
 "nbformat_minor": 2
}
